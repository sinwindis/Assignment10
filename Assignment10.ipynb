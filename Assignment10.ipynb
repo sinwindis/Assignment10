{
 "cells": [
  {
   "cell_type": "markdown",
   "metadata": {},
   "source": [
    "# 20160044 Shin Dong-Ha Assignment10\n",
    "# Github Link : https://github.com/sinwindis/Assignment10"
   ]
  },
  {
   "cell_type": "markdown",
   "metadata": {},
   "source": [
    "Importing Necessary Libraries"
   ]
  },
  {
   "cell_type": "code",
   "execution_count": 1,
   "metadata": {},
   "outputs": [],
   "source": [
    "import matplotlib.pyplot as plt\n",
    "import numpy as np\n",
    "import math\n",
    "from scipy.linalg import lstsq"
   ]
  },
  {
   "cell_type": "markdown",
   "metadata": {},
   "source": [
    "provided code"
   ]
  },
  {
   "cell_type": "code",
   "execution_count": 2,
   "metadata": {},
   "outputs": [],
   "source": [
    "file_data_train = \"mnist_train.csv\"\n",
    "file_data_test  = \"mnist_test.csv\"\n",
    "\n",
    "h_data_train    = open(file_data_train, \"r\")\n",
    "h_data_test     = open(file_data_test, \"r\")\n",
    "\n",
    "data_train      = h_data_train.readlines()\n",
    "data_test       = h_data_test.readlines()\n",
    "\n",
    "h_data_train.close()\n",
    "h_data_test.close()\n",
    "\n",
    "size_row    = 28    # height of the image\n",
    "size_col    = 28    # width of the image\n",
    "\n",
    "num_train   = len(data_train)   # number of training images\n",
    "num_test    = len(data_test)    # number of testing images\n",
    "\n",
    "#\n",
    "# normalize the values of the input data to be [0, 1]\n",
    "#\n",
    "def normalize(data):\n",
    "\n",
    "    data_normalized = (data - min(data)) / (max(data) - min(data))\n",
    "\n",
    "    return(data_normalized)\n",
    "\n",
    "#\n",
    "# example of distance function between two vectors x and y\n",
    "#\n",
    "def distance(x, y):\n",
    "\n",
    "    d = (x - y) ** 2\n",
    "    s = np.sum(d)\n",
    "    # r = np.sqrt(s)\n",
    "\n",
    "    return(s)\n",
    "\n",
    "#\n",
    "# make a matrix each column of which represents an images in a vector form \n",
    "#\n",
    "list_image_train    = np.empty((size_row * size_col, num_train), dtype=float)\n",
    "list_label_train    = np.empty(num_train, dtype=int)\n",
    "\n",
    "list_image_test     = np.empty((size_row * size_col, num_test), dtype=float)\n",
    "list_label_test     = np.empty(num_test, dtype=int)\n",
    "\n",
    "count = 0\n",
    "\n",
    "for line in data_train:\n",
    "\n",
    "    line_data   = line.split(',')\n",
    "    label       = line_data[0]\n",
    "    im_vector   = np.asfarray(line_data[1:])\n",
    "    im_vector   = normalize(im_vector)\n",
    "\n",
    "    list_label_train[count]     = label\n",
    "    list_image_train[:, count]  = im_vector    \n",
    "\n",
    "    count += 1\n",
    "\n",
    "count = 0\n",
    "\n",
    "for line in data_test:\n",
    "\n",
    "    line_data   = line.split(',')\n",
    "    label       = line_data[0]\n",
    "    im_vector   = np.asfarray(line_data[1:])\n",
    "    im_vector   = normalize(im_vector)\n",
    "\n",
    "    list_label_test[count]      = label\n",
    "    list_image_test[:, count]   = im_vector    \n",
    "\n",
    "    count += 1\n"
   ]
  },
  {
   "cell_type": "markdown",
   "metadata": {},
   "source": [
    "FUCNTION DEFINITION: sign(x)"
   ]
  },
  {
   "cell_type": "code",
   "execution_count": 3,
   "metadata": {},
   "outputs": [],
   "source": [
    "def sign(x):\n",
    "    if x >= 0:\n",
    "        return 1\n",
    "    else:\n",
    "        return -1"
   ]
  },
  {
   "cell_type": "markdown",
   "metadata": {},
   "source": [
    "DEFINE FUNCTION: generateRandomVector(sigma, precision, randomvector)\n",
    "\n",
    "gets precision number of 784-sized vector whose element value is random value based on normal distribution"
   ]
  },
  {
   "cell_type": "code",
   "execution_count": 4,
   "metadata": {},
   "outputs": [],
   "source": [
    "def generateRandomVector(sigma, precision, randomvector):\n",
    "\n",
    "    size = (size_row*size_col)\n",
    "    \n",
    "    for i in range(precision):\n",
    "        randomvector.append(np.random.normal(0, sigma, size))"
   ]
  },
  {
   "cell_type": "markdown",
   "metadata": {},
   "source": [
    "DEFINE FUNCTION: fi(i, x)\n",
    "    \n",
    "$$returns:f_i(x) = r_i^Tx$$"
   ]
  },
  {
   "cell_type": "code",
   "execution_count": 5,
   "metadata": {},
   "outputs": [],
   "source": [
    "def fi(i, x):\n",
    "    score = float()\n",
    "    \n",
    "    for j in range(size_row*size_col):\n",
    "        score += r[i][j]*x[j]\n",
    "\n",
    "    return score"
   ]
  },
  {
   "cell_type": "markdown",
   "metadata": {},
   "source": [
    "DEFINE FUNCTION: makeXhat\n",
    "\n",
    "\n",
    "Generated Matrix\n",
    "$$AX = B$$\n",
    "$$A = [x_1, x_2, \\dots, x_{p}]$$\n",
    "$$X^T = [\\theta_1, \\theta_2, \\dots, \\theta_{p}]$$\n",
    "$$B = isThatNum$$\n",
    "$$\\hat{X} = (A^TA)^{-1}A^TB$$\n",
    "\n",
    "Returned Value\n",
    "$$\\hat{X}$$"
   ]
  },
  {
   "cell_type": "code",
   "execution_count": 6,
   "metadata": {},
   "outputs": [],
   "source": [
    "def makeXhat(makeXhat_precision, classifiNum):\n",
    "    \n",
    "    A = np.empty((num_train, makeXhat_precision), dtype=float)\n",
    "    B = np.empty((num_train), dtype=float)\n",
    "    \n",
    "    for i in range(num_train):\n",
    "        for j in range(makeXhat_precision):\n",
    "            A[i][j] = fi(j, list_image_train[:, i])\n",
    "        \n",
    "        \n",
    "    for i in range(num_train):\n",
    "        if list_label_train[i] == classifiNum:\n",
    "            B[i] = 1\n",
    "        else:\n",
    "            B[i] = -1\n",
    "    \n",
    "    #Xhat = np.matmul(np.matmul(np.transpose(A), inv(np.matmul(A, np.transpose(A)))), B)\n",
    "    \n",
    "    return lstsq(A, B)"
   ]
  },
  {
   "cell_type": "markdown",
   "metadata": {},
   "source": [
    "DEFINE FUNCTION: classifier\n",
    "$$classifier(precision, imageMatrix)$$\n",
    "$$return: \\theta_1f_1(imageMatrix) + \\theta_2f_2(imageMatrix) + \\dots + \\theta_{precision}f_{precision}(imageMatrix)$$"
   ]
  },
  {
   "cell_type": "code",
   "execution_count": 7,
   "metadata": {},
   "outputs": [],
   "source": [
    "def classifier(precision, testee, xhat):\n",
    "\n",
    "    resSum = float()\n",
    "    \n",
    "    for i in range(precision):\n",
    "        resSum += fi(i, testee)*xhat[i]\n",
    "        \n",
    "    return resSum"
   ]
  },
  {
   "cell_type": "markdown",
   "metadata": {},
   "source": [
    "DEFINE FUNCTION: showResult(precision)\n",
    "\n",
    "Makes Xhat, Distributes images, Shows average images"
   ]
  },
  {
   "cell_type": "code",
   "execution_count": 83,
   "metadata": {
    "scrolled": true
   },
   "outputs": [],
   "source": [
    "def showResult(p):\n",
    "\n",
    "    \n",
    "    confusionMatrix = list()\n",
    "    \n",
    "    #result = [answer, classifiResult]\n",
    "    result = np.empty((num_test, 2), dtype=int)\n",
    "    resultMatrix = np.zeros((10, 10), dtype=int)\n",
    "    classresult = float()\n",
    "\n",
    "    print(\"precision = \", p)\n",
    "    \n",
    "    for i in range(num_test):\n",
    "        scoreTemp = classifier(p, list_image_test[:, i], thetaMatrix[p*10 - 10 + 9][0])\n",
    "        result[i, 1] = 9\n",
    "        result[i, 0] = list_label_test[i]\n",
    "        for j in range(9):\n",
    "            classresult = classifier(p, list_image_test[:, i], thetaMatrix[p*10 - 10 + j][0])\n",
    "            if classresult > scoreTemp:\n",
    "                result[i, 1] = j\n",
    "                \n",
    "    for i in range(num_test):\n",
    "        resultMatrix[result[i, 0], result[i,1]] += 1\n",
    "        \n",
    "    score_precision = \n",
    "    \n",
    "    print(resultMatrix)"
   ]
  },
  {
   "cell_type": "code",
   "execution_count": 27,
   "metadata": {},
   "outputs": [],
   "source": [
    "def generateXhat(p):\n",
    "    for i in range(10):\n",
    "        thetaMatrix.append(makeXhat(p, i))"
   ]
  },
  {
   "cell_type": "code",
   "execution_count": 34,
   "metadata": {},
   "outputs": [],
   "source": [
    "sigma = 1\n",
    "thetaMatrix = list()\n",
    "precision = 10\n",
    "r = list()\n",
    "generateRandomVector(sigma, precision, r)    "
   ]
  },
  {
   "cell_type": "code",
   "execution_count": 35,
   "metadata": {},
   "outputs": [],
   "source": [
    "generateXhat(1)"
   ]
  },
  {
   "cell_type": "code",
   "execution_count": 36,
   "metadata": {},
   "outputs": [],
   "source": [
    "generateXhat(2)"
   ]
  },
  {
   "cell_type": "code",
   "execution_count": 37,
   "metadata": {},
   "outputs": [],
   "source": [
    "generateXhat(3)"
   ]
  },
  {
   "cell_type": "code",
   "execution_count": 38,
   "metadata": {},
   "outputs": [],
   "source": [
    "generateXhat(4)"
   ]
  },
  {
   "cell_type": "code",
   "execution_count": 39,
   "metadata": {},
   "outputs": [],
   "source": [
    "generateXhat(5)"
   ]
  },
  {
   "cell_type": "code",
   "execution_count": 40,
   "metadata": {},
   "outputs": [],
   "source": [
    "generateXhat(6)"
   ]
  },
  {
   "cell_type": "code",
   "execution_count": 41,
   "metadata": {},
   "outputs": [],
   "source": [
    "generateXhat(7)"
   ]
  },
  {
   "cell_type": "code",
   "execution_count": 42,
   "metadata": {},
   "outputs": [],
   "source": [
    "generateXhat(8)"
   ]
  },
  {
   "cell_type": "code",
   "execution_count": 43,
   "metadata": {},
   "outputs": [],
   "source": [
    "generateXhat(9)"
   ]
  },
  {
   "cell_type": "code",
   "execution_count": 44,
   "metadata": {},
   "outputs": [],
   "source": [
    "generateXhat(10)"
   ]
  },
  {
   "cell_type": "code",
   "execution_count": 90,
   "metadata": {},
   "outputs": [],
   "source": [
    "scoreList = list()"
   ]
  },
  {
   "cell_type": "code",
   "execution_count": 78,
   "metadata": {},
   "outputs": [
    {
     "name": "stdout",
     "output_type": "stream",
     "text": [
      "precision =  1\n",
      "[[  0   0   0   0   0   0   0   0 620 360]\n",
      " [  0   0   0   0   0   0   0   0 294 841]\n",
      " [  0   0   0   0   0   0   0   0 190 842]\n",
      " [  0   0   0   0   0   0   0   0  80 930]\n",
      " [  0   0   0   0   0   0   0   0  81 901]\n",
      " [  0   0   0   0   0   0   0   0 103 789]\n",
      " [  0   0   0   0   0   0   0   0 190 768]\n",
      " [  0   0   0   0   0   0   0   0 113 915]\n",
      " [  0   0   0   0   0   0   0   0  62 912]\n",
      " [  0   0   0   0   0   0   0   0  21 988]]\n"
     ]
    }
   ],
   "source": [
    "showResult(1)"
   ]
  },
  {
   "cell_type": "code",
   "execution_count": 84,
   "metadata": {},
   "outputs": [
    {
     "name": "stdout",
     "output_type": "stream",
     "text": [
      "precision =  2\n",
      "[[ 25   0   0   0 428  77  63  23 223 141]\n",
      " [  1   0   0   0   8   3   5   5 815 298]\n",
      " [ 12   0   0   0  39   4  10   5 644 318]\n",
      " [  7   0   0   0  32   6   5   1 316 643]\n",
      " [ 25   0   0   0  95   2   4   2 214 640]\n",
      " [  9   0   0   0  33   6   7   2 304 531]\n",
      " [ 20   0   0   0 108  15  22   8 341 444]\n",
      " [ 10   0   0   0  27   1   4   4 614 368]\n",
      " [  4   0   0   0  12   3   3   1 453 498]\n",
      " [ 13   0   0   0  31   1   1   0 162 801]]\n"
     ]
    }
   ],
   "source": [
    "showResult(2)"
   ]
  },
  {
   "cell_type": "code",
   "execution_count": 85,
   "metadata": {},
   "outputs": [
    {
     "name": "stdout",
     "output_type": "stream",
     "text": [
      "precision =  3\n",
      "[[ 12   0   0  16 237  14 393  76 164  68]\n",
      " [  0   0   3  38   4   0 247 134 593 116]\n",
      " [  3   0   0  35  17   2 218 107 513 137]\n",
      " [  7   0   2  57  10   0 334  72 204 324]\n",
      " [ 18   0   0  46  82   0 135  35 259 407]\n",
      " [  5   0   0  65  17   2 227  38 273 265]\n",
      " [ 13   0   1  52  49   6 362 107 191 177]\n",
      " [  0   0   1  15  23   1  59  35 681 213]\n",
      " [  2   0   0  21  10   0  95  16 543 287]\n",
      " [  4   0   1  43  22   0 119  14 203 603]]\n"
     ]
    }
   ],
   "source": [
    "showResult(3)"
   ]
  },
  {
   "cell_type": "code",
   "execution_count": 86,
   "metadata": {},
   "outputs": [
    {
     "name": "stdout",
     "output_type": "stream",
     "text": [
      "precision =  4\n",
      "[[ 20   0   0  24 154  37 391  62 241  51]\n",
      " [  0 154   7   5  10   0 187 195 443 134]\n",
      " [  5  11   3  40  17   3 208 100 554  91]\n",
      " [  6  13   0 101  18   0 315  62 281 214]\n",
      " [ 21  40   0  30 128   3 106  33 265 356]\n",
      " [  7  14   1  72  36   0 230  33 301 198]\n",
      " [  8   4   0  63  40   5 392 103 240 103]\n",
      " [  1  21   0  10  57   2  47  29 634 227]\n",
      " [  3  36   3  39  20   1  75  31 540 226]\n",
      " [  7  28   1  36  27   0  91  11 227 581]]\n"
     ]
    }
   ],
   "source": [
    "showResult(4)"
   ]
  },
  {
   "cell_type": "code",
   "execution_count": 87,
   "metadata": {},
   "outputs": [
    {
     "name": "stdout",
     "output_type": "stream",
     "text": [
      "precision =  5\n",
      "[[  5   0   0  10  62  20 322  59 485  17]\n",
      " [  0 139  45   5  13   0 173 170 450 140]\n",
      " [  4   8  30  42  17   1 171  83 568 108]\n",
      " [  8   0   2  82  32   5 264  86 374 157]\n",
      " [ 21  15   2  21 154   3 112  49 312 293]\n",
      " [  5   3   0  61  40   6 208  37 386 146]\n",
      " [  4   2   4  63  28   8 335  99 343  72]\n",
      " [  4  11  11  13  61   4  38  34 683 169]\n",
      " [  3  23   9  17  30   2  78  31 604 177]\n",
      " [ 10  19   2  30  57   6  83  12 255 535]]\n"
     ]
    }
   ],
   "source": [
    "showResult(5)"
   ]
  },
  {
   "cell_type": "code",
   "execution_count": 88,
   "metadata": {},
   "outputs": [
    {
     "name": "stdout",
     "output_type": "stream",
     "text": [
      "precision =  6\n",
      "[[  8   0   0  19  54  27 233 121 499  19]\n",
      " [  0  32  18   8   8   0 211 113 715  30]\n",
      " [  3   2   8  39  11   1 141  98 640  89]\n",
      " [ 12   2   1 106  19   9 201 209 295 156]\n",
      " [ 12   5   0  41  98   6  77 155 275 313]\n",
      " [  2   1   0  88  24   8 138 120 350 161]\n",
      " [  1   1   1  26  14   2 253  56 580  24]\n",
      " [  2   4   7  14  32   0  30 243 505 191]\n",
      " [  6   9   3  28  16   3  93  67 618 131]\n",
      " [  7   2   1  42  35   6  39  99 193 585]]\n"
     ]
    }
   ],
   "source": [
    "showResult(6)"
   ]
  },
  {
   "cell_type": "code",
   "execution_count": 89,
   "metadata": {},
   "outputs": [
    {
     "name": "stdout",
     "output_type": "stream",
     "text": [
      "precision =  7\n",
      "[[  1   0   0   7  53  18 178  55 658  10]\n",
      " [  0  65   8  11   6   0 252 179 583  31]\n",
      " [  5   0  18  17  12   1 109  67 762  41]\n",
      " [  6   1   2 134  19   7 133 334 243 131]\n",
      " [  9   7   2  43 134   4  76 123 302 282]\n",
      " [  6   0   4  90  26   3 119 153 357 134]\n",
      " [  1   0   4  14   5   1 223  24 677   9]\n",
      " [  1   7  11  20  10   1  22 394 426 136]\n",
      " [  2   1   8  30  22   4  91  65 671  80]\n",
      " [  5   3   3  73  33   2  29  94 204 563]]\n"
     ]
    }
   ],
   "source": [
    "showResult(7)"
   ]
  },
  {
   "cell_type": "code",
   "execution_count": 91,
   "metadata": {},
   "outputs": [
    {
     "name": "stdout",
     "output_type": "stream",
     "text": [
      "precision =  8\n",
      "[[  1   0   1   8  46  16 160  67 673   8]\n",
      " [  0   7   2 101   0   0  89  90 838   8]\n",
      " [  4   0   7  40   7   2  78  55 812  27]\n",
      " [  3   7   2 159   7   7  92 246 422  65]\n",
      " [  5   4   4  63 135   5 124 131 253 258]\n",
      " [  1   0   2 101  38   4 126 143 361 116]\n",
      " [  1   0   5  12   5   1 304  43 581   6]\n",
      " [  1   3   4  31  13   0  21 389 453 113]\n",
      " [  1   4  12  47  13   7  45  52 743  50]\n",
      " [  2   3   5  94  32   1  56 100 188 528]]\n"
     ]
    }
   ],
   "source": [
    "showResult(8)"
   ]
  },
  {
   "cell_type": "code",
   "execution_count": 92,
   "metadata": {},
   "outputs": [
    {
     "name": "stdout",
     "output_type": "stream",
     "text": [
      "precision =  9\n",
      "[[  5   0   2   5  32  21 173 103 634   5]\n",
      " [  0   9  10  71   5   5  74 142 816   3]\n",
      " [  2   0  11  36  21   3 111 100 726  22]\n",
      " [  0   5   2 109  10  39  72 241 482  50]\n",
      " [  2   0   0  30 276   2 144 195 158 175]\n",
      " [  4   0   1  70  31  29 100 146 422  89]\n",
      " [  0   0   3  10  16   3 334  57 529   6]\n",
      " [  0   4   4  31  19   2  19 466 383 100]\n",
      " [  1   4   5  30  25   7  33  41 791  37]\n",
      " [  3   4   3  66 135   7  55 129 174 433]]\n"
     ]
    }
   ],
   "source": [
    "showResult(9)"
   ]
  },
  {
   "cell_type": "code",
   "execution_count": 93,
   "metadata": {},
   "outputs": [
    {
     "name": "stdout",
     "output_type": "stream",
     "text": [
      "precision =  10\n",
      "[[  9   1   2   7  15  24 136  91 694   1]\n",
      " [  0  19   5  60   3  10  16 118 903   1]\n",
      " [  3   1  11  27  29   3 119  92 727  20]\n",
      " [  3  10   2 104   9  41  76 249 469  47]\n",
      " [ 14   5   1  14 322   6 163 185 135 137]\n",
      " [ 19   3   0  52  20  32  77 143 454  92]\n",
      " [  4   1   6   9  14   2 354  55 506   7]\n",
      " [  1   5   6  26  43   4  17 438 411  77]\n",
      " [  1   6  11  28  13   8  31  43 803  30]\n",
      " [ 10  10   2  54 160   8  59 136 180 390]]\n"
     ]
    }
   ],
   "source": [
    "showResult(10)"
   ]
  }
 ],
 "metadata": {
  "kernelspec": {
   "display_name": "Python 3",
   "language": "python",
   "name": "python3"
  },
  "language_info": {
   "codemirror_mode": {
    "name": "ipython",
    "version": 3
   },
   "file_extension": ".py",
   "mimetype": "text/x-python",
   "name": "python",
   "nbconvert_exporter": "python",
   "pygments_lexer": "ipython3",
   "version": "3.6.5"
  }
 },
 "nbformat": 4,
 "nbformat_minor": 2
}
